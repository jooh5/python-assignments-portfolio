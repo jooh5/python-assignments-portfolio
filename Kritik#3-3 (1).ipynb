{
 "cells": [
  {
   "cell_type": "code",
   "execution_count": 4,
   "id": "c19f5365-2567-4db9-a514-1a6f2e1f48b9",
   "metadata": {},
   "outputs": [],
   "source": [
    "import math\n",
    "def hi(f,c,E):\n",
    "    c=0\n",
    "    E=0.01\n",
    "    n=100\n",
    "    x1=c\n",
    "    x2=c\n",
    "    delx=10**(-8)\n",
    "    d=0.001\n",
    "    def fprime(x):\n",
    "        return (f(x+delx)-f(x-delx))/(2*delx)\n",
    "    def L(x):\n",
    "        return f(c)+fprime(c)*(x-c)\n",
    "\n",
    "    for i in range(n):\n",
    "        x1-=d\n",
    "        if abs(f(x1)-L(x1)) <= E:\n",
    "            print(x1)\n",
    "            break\n",
    "    if abs(f(x1)-L(x1)) <= E:\n",
    "        print(x1)\n",
    "    else:\n",
    "        print(\"No such x1 can be found\")\n",
    "\n",
    "    for i in range(n):\n",
    "        x2+=d\n",
    "        if abs(f(x2)-L(x2)) <= E:\n",
    "            print(x2)\n",
    "            break\n",
    "    if abs(f(x2)-L(x2)) <= E:\n",
    "        print(x2)\n",
    "    else:\n",
    "        print(\"No such x2 can be found\")\n",
    "    return (x1, x2)\n",
    "    "
   ]
  },
  {
   "cell_type": "code",
   "execution_count": 6,
   "id": "bfecd0aa-c02b-42e5-b96c-fb0ef56ecd94",
   "metadata": {},
   "outputs": [],
   "source": [
    "import math\n",
    "def test_function(x):\n",
    "    return math.exp(x)"
   ]
  },
  {
   "cell_type": "code",
   "execution_count": 7,
   "id": "acf0e874-6487-40ba-9386-f9c6975427e2",
   "metadata": {},
   "outputs": [
    {
     "name": "stdout",
     "output_type": "stream",
     "text": [
      "-0.001\n",
      "-0.001\n",
      "0.001\n",
      "0.001\n"
     ]
    },
    {
     "data": {
      "text/plain": [
       "(-0.001, 0.001)"
      ]
     },
     "execution_count": 7,
     "metadata": {},
     "output_type": "execute_result"
    }
   ],
   "source": [
    "hi(test_function, 0, 0.01)"
   ]
  },
  {
   "cell_type": "code",
   "execution_count": null,
   "id": "37d18818-edfa-4727-99ed-3c0e4171d67c",
   "metadata": {},
   "outputs": [],
   "source": []
  }
 ],
 "metadata": {
  "kernelspec": {
   "display_name": "Python 3 (ipykernel)",
   "language": "python",
   "name": "python3"
  },
  "language_info": {
   "codemirror_mode": {
    "name": "ipython",
    "version": 3
   },
   "file_extension": ".py",
   "mimetype": "text/x-python",
   "name": "python",
   "nbconvert_exporter": "python",
   "pygments_lexer": "ipython3",
   "version": "3.11.4"
  }
 },
 "nbformat": 4,
 "nbformat_minor": 5
}
