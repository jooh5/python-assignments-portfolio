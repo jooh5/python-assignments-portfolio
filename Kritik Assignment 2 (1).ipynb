{
 "cells": [
  {
   "cell_type": "code",
   "execution_count": 1,
   "id": "e0f4874f-9d48-425d-a6d9-c59612d83147",
   "metadata": {},
   "outputs": [],
   "source": [
    "def roots(f,a,b,N):\n",
    "    roots=[] #this is an empty list\n",
    "    if f(a)*f(b) >= 0:\n",
    "        print(\"Not looking for roots for functions with a and b being the identical sign\")\n",
    "        return None\n",
    "    a=a\n",
    "    b=b\n",
    "    for n in range (1,N+1):\n",
    "        M=(a+b)/2\n",
    "        if f(a) * f(M) < 0:\n",
    "            b=M\n",
    "            a=a\n",
    "        elif f(b) * f(M) < 0:\n",
    "            a=M\n",
    "            b=b\n",
    "    return(a+b)/2"
   ]
  },
  {
   "cell_type": "code",
   "execution_count": 2,
   "id": "ae20d432-9bb1-42a2-88e3-5cbf3dc775ad",
   "metadata": {},
   "outputs": [
    {
     "name": "stdout",
     "output_type": "stream",
     "text": [
      "0.2705078125\n"
     ]
    },
    {
     "name": "stderr",
     "output_type": "stream",
     "text": [
      "/tmp/ipykernel_207/253714621.py:3: RuntimeWarning: divide by zero encountered in log\n",
      "  f = lambda x: math.exp(x) + np.log(x)\n"
     ]
    }
   ],
   "source": [
    "import math\n",
    "import numpy as np\n",
    "f = lambda x: math.exp(x) + np.log(x)\n",
    "approx_phi = roots(f,0,1,9)\n",
    "print(approx_phi)"
   ]
  },
  {
   "cell_type": "code",
   "execution_count": 3,
   "id": "da0c0448-d60e-435f-9e66-6fa9e12b47b6",
   "metadata": {},
   "outputs": [
    {
     "name": "stdout",
     "output_type": "stream",
     "text": [
      "3.1416015625\n"
     ]
    }
   ],
   "source": [
    "import math\n",
    "import numpy as np\n",
    "f = lambda x: math.sin(x)/ np.log(x)\n",
    "approx_phi = roots(f,3,4,9)\n",
    "print(approx_phi)"
   ]
  },
  {
   "cell_type": "code",
   "execution_count": 4,
   "id": "54965281-1d47-4b43-8b1d-0285dda2303f",
   "metadata": {},
   "outputs": [
    {
     "name": "stdout",
     "output_type": "stream",
     "text": [
      "Not looking for roots for functions with a and b being the identical sign\n",
      "None\n"
     ]
    }
   ],
   "source": [
    "import math\n",
    "import numpy as np\n",
    "f = lambda x: math.log(math.cos(x))\n",
    "approx_phi = roots(f,5,7,9)\n",
    "print(approx_phi)"
   ]
  },
  {
   "cell_type": "code",
   "execution_count": null,
   "id": "d8eb07f0-f0c7-4dcd-8f91-97147c801674",
   "metadata": {},
   "outputs": [],
   "source": []
  }
 ],
 "metadata": {
  "kernelspec": {
   "display_name": "Python 3 (ipykernel)",
   "language": "python",
   "name": "python3"
  },
  "language_info": {
   "codemirror_mode": {
    "name": "ipython",
    "version": 3
   },
   "file_extension": ".py",
   "mimetype": "text/x-python",
   "name": "python",
   "nbconvert_exporter": "python",
   "pygments_lexer": "ipython3",
   "version": "3.11.4"
  }
 },
 "nbformat": 4,
 "nbformat_minor": 5
}
