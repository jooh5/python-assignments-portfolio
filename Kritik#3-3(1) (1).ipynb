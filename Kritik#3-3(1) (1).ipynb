{
 "cells": [
  {
   "cell_type": "code",
   "execution_count": 1,
   "id": "1f7194b1-61e8-4c35-b375-ab9b829723e9",
   "metadata": {},
   "outputs": [],
   "source": [
    "import numpy as np\n",
    "def hi(f,c,E):\n",
    "    c=np.pi/4\n",
    "    E=0.05\n",
    "    n=100\n",
    "    x1=c\n",
    "    x2=c\n",
    "    delx=10**(-8)\n",
    "    d=0.001\n",
    "    def fprime(x):\n",
    "        return (f(x+delx)-f(x-delx))/(2*delx)\n",
    "    def L(x):\n",
    "        return f(c)+fprime(c)*(x-c)\n",
    "\n",
    "    for i in range(n):\n",
    "        x1-=d\n",
    "        if abs(f(x1)-L(x1)) <= E:\n",
    "            print(x1)\n",
    "            break\n",
    "    if abs(f(x1)-L(x1)) <= E:\n",
    "        print(x1)\n",
    "    else:\n",
    "        print(\"No such x1 can be found\")\n",
    "\n",
    "    for i in range(n):\n",
    "        x2+=d\n",
    "        if abs(f(x2)-L(x2)) <= E:\n",
    "            print(x2)\n",
    "            break\n",
    "    if abs(f(x2)-L(x2)) <= E:\n",
    "        print(x2)\n",
    "    else:\n",
    "        print(\"No such x2 can be found\")\n",
    "    return (x1, x2)\n",
    "    "
   ]
  },
  {
   "cell_type": "code",
   "execution_count": 2,
   "id": "298a49f2-3447-4e36-97e5-793318cb3326",
   "metadata": {},
   "outputs": [],
   "source": [
    "import numpy as np\n",
    "def test_function(x):\n",
    "    return np.sin(x)"
   ]
  },
  {
   "cell_type": "code",
   "execution_count": 3,
   "id": "b85a5728-69e8-4165-968c-15f1f9d77cbb",
   "metadata": {},
   "outputs": [
    {
     "name": "stdout",
     "output_type": "stream",
     "text": [
      "0.7843981633974483\n",
      "0.7843981633974483\n",
      "0.7863981633974483\n",
      "0.7863981633974483\n"
     ]
    },
    {
     "data": {
      "text/plain": [
       "(0.7843981633974483, 0.7863981633974483)"
      ]
     },
     "execution_count": 3,
     "metadata": {},
     "output_type": "execute_result"
    }
   ],
   "source": [
    "hi(test_function, np.pi/4, 0.05)"
   ]
  },
  {
   "cell_type": "code",
   "execution_count": null,
   "id": "b61bb3c1-3824-49d3-8b80-f62b3df70610",
   "metadata": {},
   "outputs": [],
   "source": []
  }
 ],
 "metadata": {
  "kernelspec": {
   "display_name": "Python 3 (ipykernel)",
   "language": "python",
   "name": "python3"
  },
  "language_info": {
   "codemirror_mode": {
    "name": "ipython",
    "version": 3
   },
   "file_extension": ".py",
   "mimetype": "text/x-python",
   "name": "python",
   "nbconvert_exporter": "python",
   "pygments_lexer": "ipython3",
   "version": "3.11.4"
  }
 },
 "nbformat": 4,
 "nbformat_minor": 5
}
