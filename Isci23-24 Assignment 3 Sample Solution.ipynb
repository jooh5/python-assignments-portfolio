{
 "cells": [
  {
   "cell_type": "code",
   "execution_count": 6,
   "id": "7f94ff9e",
   "metadata": {},
   "outputs": [],
   "source": [
    "import numpy as np\n",
    "\n",
    "def linear_approximation(f, c, E):\n",
    "    delta_x = 10**-8  #This fixed value is like the very small h in the limit definition\n",
    "    # Approximate the derivative using central difference\n",
    "    # The difference version is more numerically stable than the version we introduced in class.\n",
    "    # Central differences are used in many applications!! \n",
    "    def df_approx(x):\n",
    "        return (f(x + delta_x) - f(x - delta_x)) / (2 * delta_x)\n",
    "\n",
    "    # Define the linear approximation function L(x)\n",
    "    def L(x):\n",
    "        return f(c) + df_approx(c) * (x - c)\n",
    "\n",
    "    # Initialize the interval endpoints at c\n",
    "    x1 = c\n",
    "    x2 = c\n",
    "\n",
    "    # Increase x1 and x2 incrementally to find the maximum interval [x1, x2]\n",
    "    # where the absolute error |f(x) - L(x)| is less than E\n",
    "    step_size = 0.001 # Starting step size for incrementing the steps away from c\n",
    "    counter1=0\n",
    "    counter2=0\n",
    "    while max(counter1,counter2)<1000000:#we will stop the code if we have to take more than a milli steps in either direction\n",
    "        if abs(f(x1) - L(x1)) < E:\n",
    "            x1 -= step_size  # Increase interval on left side\n",
    "            counter1+=1\n",
    "        else:\n",
    "            # If error exceeds E, take a step back and decrease step size\n",
    "            x1 += step_size\n",
    "            step_size /= 10\n",
    "            if step_size < delta_x:\n",
    "                break  # Stop if the step size is too small\n",
    "        \n",
    "        if abs(f(x2) - L(x2)) < E:\n",
    "            x2 += step_size  # Increase interval on right side\n",
    "            counter2+=1\n",
    "        else:\n",
    "            # If error exceeds E, take a step back and decrease step size\n",
    "            x2 -= step_size\n",
    "            step_size /= 10\n",
    "            if step_size < delta_x:\n",
    "                break  # Stop if the step size is too small\n",
    "    \n",
    "    # Return the interval [x1, x2]\n",
    "    return x1, x2\n",
    "\n",
    "#GRADING NOTE: SOLUTIONS MAY VARY. TEST CASE OUTPUT SHOULD BE SIMILAR\n"
   ]
  },
  {
   "cell_type": "code",
   "execution_count": 4,
   "id": "3a677cb1",
   "metadata": {},
   "outputs": [
    {
     "data": {
      "text/plain": [
       "(0.6839888899999997, 1.3168888899999651)"
      ]
     },
     "execution_count": 4,
     "metadata": {},
     "output_type": "execute_result"
    }
   ],
   "source": [
    "#test case 1\n",
    "def test1(x):\n",
    "    return x**2\n",
    "\n",
    "E=0.1\n",
    "c=1\n",
    "\n",
    "linear_approximation(test1,c,E)"
   ]
  },
  {
   "cell_type": "code",
   "execution_count": 7,
   "id": "0df6fead",
   "metadata": {},
   "outputs": [
    {
     "data": {
      "text/plain": [
       "(0.42587289339744816, 1.1427012133974321)"
      ]
     },
     "execution_count": 7,
     "metadata": {},
     "output_type": "execute_result"
    }
   ],
   "source": [
    "#test case 2\n",
    "\n",
    "def test2(x):\n",
    "    return np.sin(x)\n",
    "\n",
    "E=0.05\n",
    "c=np.pi/4\n",
    "\n",
    "linear_approximation(test2,c,E)"
   ]
  },
  {
   "cell_type": "code",
   "execution_count": 12,
   "id": "0216ce53",
   "metadata": {},
   "outputs": [
    {
     "data": {
      "text/plain": [
       "(-0.14038733000000014, 0.13816511000000015)"
      ]
     },
     "execution_count": 12,
     "metadata": {},
     "output_type": "execute_result"
    }
   ],
   "source": [
    "#test case 3\n",
    "\n",
    "def test3(x): \n",
    "    return np.exp(x)\n",
    "\n",
    "c=0\n",
    "E=0.01\n",
    "\n",
    "linear_approximation(test3,c,E)"
   ]
  },
  {
   "cell_type": "code",
   "execution_count": null,
   "id": "6a2b60c2",
   "metadata": {},
   "outputs": [],
   "source": []
  }
 ],
 "metadata": {
  "kernelspec": {
   "display_name": "Python 3 (ipykernel)",
   "language": "python",
   "name": "python3"
  },
  "language_info": {
   "codemirror_mode": {
    "name": "ipython",
    "version": 3
   },
   "file_extension": ".py",
   "mimetype": "text/x-python",
   "name": "python",
   "nbconvert_exporter": "python",
   "pygments_lexer": "ipython3",
   "version": "3.11.4"
  }
 },
 "nbformat": 4,
 "nbformat_minor": 5
}
